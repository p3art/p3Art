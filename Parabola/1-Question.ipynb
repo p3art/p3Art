{
 "cells": [
  {
   "cell_type": "markdown",
   "id": "70aa71b9-6a8c-4914-a14a-08d6a86632b1",
   "metadata": {},
   "source": [
    "<span style='background :yellow' > 某賓館有50個房間供遊客居住，當每個房間的定價為每天1800元時，房間會全部住滿。 </span> <br>\n",
    "<span style='background :yellow' > 當每個房間每天的定價每增加100元時，就會有一個房間空閑。 </span> <br>\n",
    "<span style='background :yellow' > 如果遊客居住房間，賓館需對每個房間每天支出200元的各種費用。 </span> <br>\n",
    "<span style='background :yellow' > 房價定為多少時，賓館利潤最大？ </span> <br>\n",
    "\n",
    "解：設房價為(1800+100X)，賓館的利潤為Y元 <br>\n",
    "$Y = (50-X)*(1800+100X)-200*(50-X)$ <br>\n",
    "$Y = 50*1800 + 5000X -1800X -100X*X -200*50 + 200X$ <br>\n",
    "$Y = -100X*X + 3400X + 80000$ <br>\n",
    "$y = -100x^2+3400x+80000$ <br>\n",
    "## 每間定價3500元(即1800+100*17)，游客入住33間房間時，收入115500元，費用6600元，淨收入108900元。 <br>"
   ]
  },
  {
   "cell_type": "code",
   "execution_count": null,
   "id": "20da2e52-10e5-427d-9f31-bcbc6e661e57",
   "metadata": {},
   "outputs": [],
   "source": []
  }
 ],
 "metadata": {
  "kernelspec": {
   "display_name": "Python 3 (ipykernel)",
   "language": "python",
   "name": "python3"
  },
  "language_info": {
   "codemirror_mode": {
    "name": "ipython",
    "version": 3
   },
   "file_extension": ".py",
   "mimetype": "text/x-python",
   "name": "python",
   "nbconvert_exporter": "python",
   "pygments_lexer": "ipython3",
   "version": "3.7.10"
  }
 },
 "nbformat": 4,
 "nbformat_minor": 5
}
