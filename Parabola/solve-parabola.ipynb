{
 "cells": [
  {
   "cell_type": "markdown",
   "id": "4738d386-f08e-4f9b-b06d-d14ba66ccc97",
   "metadata": {},
   "source": [
    "## <span style='background :yellow' > 方程式 $𝑎𝑥^2+𝑏𝑥+𝑐=0$  </span> \n",
    "## <span style='background :yellow' > 其中 a，b和c是實數 a≠0 ; 求 x 的二個根，各為多少?   </span>"
   ]
  },
  {
   "cell_type": "code",
   "execution_count": 1,
   "id": "f33bec45-3eb0-450d-b6f1-842825b60da5",
   "metadata": {},
   "outputs": [
    {
     "name": "stdout",
     "output_type": "stream",
     "text": [
      "判別式Q = 4.0\n",
      "判別式Q > 0, x有2個解  x1= 2.0 ; x2= -2.0\n"
     ]
    }
   ],
   "source": [
    "# solve-parabola\n",
    "# 茄萣國中 Python社團\n",
    "# 作業四: \n",
    "# 姓名 : \n",
    "# date : 110-09-14\n",
    "#\n",
    "# 判別式 Q = b*b - 4*a*c\n",
    "# 公式 x1=(-b+math.sqrt(Q))/(2*a)    # math.sqrt(x)開平方根\n",
    "# 公式 x2=(-b-math.sqrt(Q))/(2*a)\n",
    "#\n",
    "import math\n",
    "\"\"\"\n",
    "# let a,b,c =\n",
    "#   4,0,-2\n",
    "#   2,0,-2\n",
    "#   1,0,-2\n",
    "# 0.5,0,-2\n",
    "\"\"\"\n",
    "a = 0.5\n",
    "b = 0\n",
    "c = -2\n",
    "# Q = 4\n",
    "Q = b*b - 4*a*c  \n",
    "print('判別式Q =',Q)\n",
    "#\n",
    "if Q > 0:\n",
    "    x1=(-b+math.sqrt(Q))/(2*a)\n",
    "    x2=(-b-math.sqrt(Q))/(2*a)\n",
    "    print('判別式Q > 0, x有2個解 ', 'x1=',x1, '; x2=', x2)\n",
    "# end if\n",
    "if Q == 0:\n",
    "    x1=-b/(2*a)\n",
    "    print('判別式Q = 0, x有1個解 ', 'x1=',x1)\n",
    "# end if\n",
    "if Q < 0:\n",
    "    print('判別式Q < 0, 方程無解')\n",
    "# end if"
   ]
  },
  {
   "cell_type": "code",
   "execution_count": null,
   "id": "e69e425c-14a3-488f-9f29-1447f9f2b093",
   "metadata": {},
   "outputs": [],
   "source": []
  }
 ],
 "metadata": {
  "kernelspec": {
   "display_name": "Python 3 (ipykernel)",
   "language": "python",
   "name": "python3"
  },
  "language_info": {
   "codemirror_mode": {
    "name": "ipython",
    "version": 3
   },
   "file_extension": ".py",
   "mimetype": "text/x-python",
   "name": "python",
   "nbconvert_exporter": "python",
   "pygments_lexer": "ipython3",
   "version": "3.7.10"
  }
 },
 "nbformat": 4,
 "nbformat_minor": 5
}
