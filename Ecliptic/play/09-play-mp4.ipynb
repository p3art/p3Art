{
 "cells": [
  {
   "cell_type": "code",
   "execution_count": 1,
   "id": "afd595a8-ecbc-4f32-8d56-34c196ab35e3",
   "metadata": {},
   "outputs": [
    {
     "data": {
      "text/html": [
       "<video src=\"06-big_Ecliptic-animation.mp4\" controls  >\n",
       "      Your browser does not support the <code>video</code> element.\n",
       "    </video>"
      ],
      "text/plain": [
       "<IPython.core.display.Video object>"
      ]
     },
     "execution_count": 1,
     "metadata": {},
     "output_type": "execute_result"
    }
   ],
   "source": [
    "# 09-1-play-mp4.ipynb\n",
    "#\n",
    "from IPython.display import Video\n",
    "Video(\"06-big_Ecliptic-animation.mp4\")"
   ]
  },
  {
   "cell_type": "code",
   "execution_count": 5,
   "id": "f1b38fa7-5b97-467c-b354-95063055dd9e",
   "metadata": {},
   "outputs": [
    {
     "data": {
      "text/html": [
       "<img src=\"05-Ecliptic-animation.gif\"/>"
      ],
      "text/plain": [
       "<IPython.core.display.Image object>"
      ]
     },
     "execution_count": 5,
     "metadata": {},
     "output_type": "execute_result"
    }
   ],
   "source": [
    "# 09-2-play-gif.ipynb\n",
    "#\n",
    "from IPython.display import Image\n",
    "Image(url='05-Ecliptic-animation.gif')\n"
   ]
  },
  {
   "cell_type": "code",
   "execution_count": 6,
   "id": "8b284177-54b6-49c2-a783-c18fb901781f",
   "metadata": {},
   "outputs": [
    {
     "data": {
      "text/html": [
       "<img src=\"08-big_Ecliptic-animation-Hrs.gif\"/>"
      ],
      "text/plain": [
       "<IPython.core.display.Image object>"
      ]
     },
     "execution_count": 6,
     "metadata": {},
     "output_type": "execute_result"
    }
   ],
   "source": [
    "# 09-3-play-gif.ipynb\n",
    "#\n",
    "from IPython.display import Image\n",
    "Image(url='08-big_Ecliptic-animation-Hrs.gif')"
   ]
  },
  {
   "cell_type": "code",
   "execution_count": null,
   "id": "d5524c54-7f2d-4d94-89d6-1d2f081d9a6b",
   "metadata": {},
   "outputs": [],
   "source": []
  }
 ],
 "metadata": {
  "kernelspec": {
   "display_name": "Python 3 (ipykernel)",
   "language": "python",
   "name": "python3"
  },
  "language_info": {
   "codemirror_mode": {
    "name": "ipython",
    "version": 3
   },
   "file_extension": ".py",
   "mimetype": "text/x-python",
   "name": "python",
   "nbconvert_exporter": "python",
   "pygments_lexer": "ipython3",
   "version": "3.9.1"
  }
 },
 "nbformat": 4,
 "nbformat_minor": 5
}
