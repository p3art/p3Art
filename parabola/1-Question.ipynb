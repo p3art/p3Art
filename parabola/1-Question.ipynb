{
 "cells": [
  {
   "cell_type": "markdown",
   "id": "36cc2abc-7bb0-46b4-8599-b9618593b0a8",
   "metadata": {},
   "source": [
    "某賓館有50個房間供遊客居住，當每個房間的定價為每天1800元時，房間會全部住滿。<br>\n",
    "當每個房間每天的定價每增加100元時，就會有一個房間空閑。<br>\n",
    "如果遊客居住房間，賓館需對每個房間每天支出200元的各種費用。<br>\n",
    "房價定為多少時，賓館利潤最大？ <br>\n",
    "\n",
    "解：設每個房間每天增加X元，賓館的利潤為Y元 <br>\n",
    "Y =(50-X/100)(1800+X)-200(50-X/100) <br>\n",
    "Y = 50*180+50X-18X-X*X - 200*50+2X  <br>\n",
    "Y = 9000 +34X-X*X -10000 <br>\n",
    "$ y= -x^2+34x-1000$ <br>\n",
    "$ -x^2+34x-1000 = 0$ <br>\n",
    "a=-1 , b=34 , c=-1000"
   ]
  },
  {
   "cell_type": "code",
   "execution_count": null,
   "id": "8a75a096-9743-467d-9842-00c44cffc40e",
   "metadata": {},
   "outputs": [],
   "source": []
  }
 ],
 "metadata": {
  "kernelspec": {
   "display_name": "Python 3 (ipykernel)",
   "language": "python",
   "name": "python3"
  },
  "language_info": {
   "codemirror_mode": {
    "name": "ipython",
    "version": 3
   },
   "file_extension": ".py",
   "mimetype": "text/x-python",
   "name": "python",
   "nbconvert_exporter": "python",
   "pygments_lexer": "ipython3",
   "version": "3.7.10"
  }
 },
 "nbformat": 4,
 "nbformat_minor": 5
}
