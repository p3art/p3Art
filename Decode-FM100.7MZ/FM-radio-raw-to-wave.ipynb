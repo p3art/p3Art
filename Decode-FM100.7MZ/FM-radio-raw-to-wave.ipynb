{
 "cells": [
  {
   "cell_type": "code",
   "execution_count": 1,
   "id": "7bb2b458-22eb-4b58-8204-1448dc4f4a55",
   "metadata": {},
   "outputs": [],
   "source": [
    "# https://witestlab.poly.edu/blog/capture-and-decode-fm-radio/\n",
    "# 2021-07-20\n",
    "# miniconda Python 3.9.5\n",
    "#\n",
    "# inlining svg image in a markdown cell\n",
    "# 0. ![](livefm-system-diagram.svg \"livefm-system-diagram.svg\")\n",
    "# 1. Using markdown syntax: ![Alt text](https://mirrors.creativecommons.org/presskit/logos/cc.logo.svg)\n",
    "# 2. Using HTML: <img style=\"float: right;\" src=\"https://mirrors.creativecommons.org/presskit/logos/cc.logo.svg\">\n",
    "#"
   ]
  },
  {
   "cell_type": "code",
   "execution_count": 2,
   "id": "b6f9e67b-e255-4baa-b5fa-7fc0f6c73906",
   "metadata": {},
   "outputs": [],
   "source": [
    "from rtlsdr import RtlSdr  \n",
    "import numpy as np  \n",
    "import scipy.signal as signal\n",
    "import scipy.io.wavfile\n",
    "import matplotlib.pyplot as plt\n",
    "#\n",
    "sdr = RtlSdr()"
   ]
  },
  {
   "cell_type": "code",
   "execution_count": 3,
   "id": "28d5844c-b673-48f8-8053-d488fba7ffb9",
   "metadata": {},
   "outputs": [],
   "source": [
    "# In the next command, we will specify the frequency at which to capture samples. \n",
    "# We will use 107.3MHz, Rutgers Radio:\n",
    "F_station = int(107.3e6)   # 漢聲廣播電台  \n",
    "F_offset  = 250000         # Offset to capture at  \n",
    "#\n",
    "# We capture at an offset to avoid DC spike\n",
    "Fc = F_station - F_offset  # Capture center frequency  \n",
    "Fs = int(1140000)          # Sample rate  \n",
    "# N  = int(8192000)        # Samples to capture, 7 seconds long \n",
    "# N  = int(16384000)       # Samples to capture,14 seconds long  \n",
    "N  = int(16384000*2)       # Samples to capture,28 seconds long  \n",
    "\n",
    "# configure device\n",
    "sdr.sample_rate = Fs      # Hz  \n",
    "sdr.center_freq = Fc      # Hz  \n",
    "sdr.freq_correction = 30  # PPM  <----- test\n",
    "sdr.gain = 'auto'\n",
    "\n",
    "# Read samples\n",
    "samples = sdr.read_samples(N)\n",
    "\n",
    "# Clean up the SDR device\n",
    "sdr.close()  \n",
    "del(sdr)\n",
    "#"
   ]
  },
  {
   "cell_type": "code",
   "execution_count": 4,
   "id": "f00fd43e-6485-4d87-94ab-2ad1dacebaf3",
   "metadata": {},
   "outputs": [
    {
     "name": "stdout",
     "output_type": "stream",
     "text": [
      "Done\n"
     ]
    }
   ],
   "source": [
    "# Convert samples to a numpy array\n",
    "x1 = np.array(samples).astype(\"complex64\")\n",
    "fc1 = np.exp(-1.0j*2.0*np.pi*F_offset/Fs*np.arange(len(x1)))  \n",
    "x2 = x1 * fc1 \n",
    "#\n",
    "f_bw = 200000  \n",
    "dec_rate = int(Fs / f_bw)  \n",
    "x4 = signal.decimate(x2, dec_rate)  \n",
    "#\n",
    "y5 = x4[1:] * np.conj(x4[:-1])  \n",
    "x5 = np.angle(y5)\n",
    "#\n",
    "# Given a signal 'x5' (in a numpy array) with sampling rate Fs_y\n",
    "Fs_y = Fs/dec_rate\n",
    "d = Fs_y * 75e-6   # Calculate the # of samples to hit the -3dB point  \n",
    "x = np.exp(-1/d)   # Calculate the decay between each sample  \n",
    "b = [1-x]          # Create the filter coefficients  \n",
    "a = [1,-x]  \n",
    "x6 = signal.lfilter(b,a,x5) \n",
    "#\n",
    "# Now we can decimate once again to focus on the mono audio part of the broadcast:\n",
    "# Find a decimation rate to achieve audio sampling rate between 44-48 kHz\n",
    "audio_freq = 44100.0  \n",
    "dec_audio = int(Fs_y/audio_freq)  \n",
    "Fs_audio = Fs_y / dec_audio\n",
    "x7 = signal.decimate(x6, dec_audio) \n",
    "#\n",
    "# finally, we can write to an audio file:\n",
    "# Scale audio to adjust volume\n",
    "x7 *= 10000 / np.max(np.abs(x7))  \n",
    "# Save to file as 16-bit signed single-channel audio samples\n",
    "x7.astype(\"int16\").tofile(\"./FM-103.7MZ-mono-2.raw\") \n",
    "#\n",
    "scipy.io.wavfile.write(\"./FM-103.7MZ-mono-2.wav\", 44100, x7.astype(\"int16\"))\n",
    "#\n",
    "print('Done')"
   ]
  },
  {
   "cell_type": "code",
   "execution_count": null,
   "id": "153d22e1-e183-4e7b-98fe-30a0c1f259c4",
   "metadata": {},
   "outputs": [],
   "source": []
  }
 ],
 "metadata": {
  "kernelspec": {
   "display_name": "Python 3 (ipykernel)",
   "language": "python",
   "name": "python3"
  },
  "language_info": {
   "codemirror_mode": {
    "name": "ipython",
    "version": 3
   },
   "file_extension": ".py",
   "mimetype": "text/x-python",
   "name": "python",
   "nbconvert_exporter": "python",
   "pygments_lexer": "ipython3",
   "version": "3.9.1"
  }
 },
 "nbformat": 4,
 "nbformat_minor": 5
}
